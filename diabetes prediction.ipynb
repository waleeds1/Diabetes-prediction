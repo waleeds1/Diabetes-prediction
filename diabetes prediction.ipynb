{
 "cells": [
  {
   "cell_type": "code",
   "execution_count": 1,
   "id": "659873e6",
   "metadata": {
    "_cell_guid": "b1076dfc-b9ad-4769-8c92-a6c4dae69d19",
    "_uuid": "8f2839f25d086af736a60e9eeb907d3b93b6e0e5",
    "execution": {
     "iopub.execute_input": "2022-12-11T12:05:29.464893Z",
     "iopub.status.busy": "2022-12-11T12:05:29.464507Z",
     "iopub.status.idle": "2022-12-11T12:05:29.480013Z",
     "shell.execute_reply": "2022-12-11T12:05:29.478438Z"
    },
    "papermill": {
     "duration": 0.027906,
     "end_time": "2022-12-11T12:05:29.482212",
     "exception": false,
     "start_time": "2022-12-11T12:05:29.454306",
     "status": "completed"
    },
    "tags": []
   },
   "outputs": [
    {
     "name": "stdout",
     "output_type": "stream",
     "text": [
      "/kaggle/input/pima-indians-diabetes-database/diabetes.csv\n"
     ]
    }
   ],
   "source": [
    "# This Python 3 environment comes with many helpful analytics libraries installed\n",
    "# It is defined by the kaggle/python Docker image: https://github.com/kaggle/docker-python\n",
    "# For example, here's several helpful packages to load\n",
    "\n",
    "import numpy as np # linear algebra\n",
    "import pandas as pd # data processing, CSV file I/O (e.g. pd.read_csv)\n",
    "\n",
    "# Input data files are available in the read-only \"../input/\" directory\n",
    "# For example, running this (by clicking run or pressing Shift+Enter) will list all files under the input directory\n",
    "\n",
    "import os\n",
    "for dirname, _, filenames in os.walk('/kaggle/input'):\n",
    "    for filename in filenames:\n",
    "        print(os.path.join(dirname, filename))\n",
    "\n",
    "# You can write up to 20GB to the current directory (/kaggle/working/) that gets preserved as output when you create a version using \"Save & Run All\" \n",
    "# You can also write temporary files to /kaggle/temp/, but they won't be saved outside of the current session"
   ]
  },
  {
   "cell_type": "code",
   "execution_count": 2,
   "id": "fa26f511",
   "metadata": {
    "execution": {
     "iopub.execute_input": "2022-12-11T12:05:29.497778Z",
     "iopub.status.busy": "2022-12-11T12:05:29.497458Z",
     "iopub.status.idle": "2022-12-11T12:05:30.758357Z",
     "shell.execute_reply": "2022-12-11T12:05:30.757007Z"
    },
    "papermill": {
     "duration": 1.271856,
     "end_time": "2022-12-11T12:05:30.761183",
     "exception": false,
     "start_time": "2022-12-11T12:05:29.489327",
     "status": "completed"
    },
    "tags": []
   },
   "outputs": [],
   "source": [
    "from sklearn.compose import ColumnTransformer\n",
    "from sklearn.pipeline import Pipeline\n",
    "from sklearn.impute import SimpleImputer\n",
    "from sklearn.preprocessing import OneHotEncoder\n",
    "from sklearn.ensemble import RandomForestRegressor\n",
    "from sklearn.metrics import accuracy_score"
   ]
  },
  {
   "cell_type": "code",
   "execution_count": 3,
   "id": "b79cb47c",
   "metadata": {
    "execution": {
     "iopub.execute_input": "2022-12-11T12:05:30.776493Z",
     "iopub.status.busy": "2022-12-11T12:05:30.776172Z",
     "iopub.status.idle": "2022-12-11T12:05:30.797055Z",
     "shell.execute_reply": "2022-12-11T12:05:30.795423Z"
    },
    "papermill": {
     "duration": 0.031594,
     "end_time": "2022-12-11T12:05:30.799643",
     "exception": false,
     "start_time": "2022-12-11T12:05:30.768049",
     "status": "completed"
    },
    "tags": []
   },
   "outputs": [],
   "source": [
    "import pandas as pd\n",
    "from sklearn.model_selection import train_test_split\n",
    "\n",
    "# Read the data\n",
    "df = pd.read_csv('/kaggle/input/pima-indians-diabetes-database/diabetes.csv')"
   ]
  },
  {
   "cell_type": "code",
   "execution_count": 4,
   "id": "8310e65b",
   "metadata": {
    "execution": {
     "iopub.execute_input": "2022-12-11T12:05:30.816561Z",
     "iopub.status.busy": "2022-12-11T12:05:30.815361Z",
     "iopub.status.idle": "2022-12-11T12:05:30.834724Z",
     "shell.execute_reply": "2022-12-11T12:05:30.833428Z"
    },
    "papermill": {
     "duration": 0.030341,
     "end_time": "2022-12-11T12:05:30.837777",
     "exception": false,
     "start_time": "2022-12-11T12:05:30.807436",
     "status": "completed"
    },
    "tags": []
   },
   "outputs": [
    {
     "data": {
      "text/html": [
       "<div>\n",
       "<style scoped>\n",
       "    .dataframe tbody tr th:only-of-type {\n",
       "        vertical-align: middle;\n",
       "    }\n",
       "\n",
       "    .dataframe tbody tr th {\n",
       "        vertical-align: top;\n",
       "    }\n",
       "\n",
       "    .dataframe thead th {\n",
       "        text-align: right;\n",
       "    }\n",
       "</style>\n",
       "<table border=\"1\" class=\"dataframe\">\n",
       "  <thead>\n",
       "    <tr style=\"text-align: right;\">\n",
       "      <th></th>\n",
       "      <th>Pregnancies</th>\n",
       "      <th>Glucose</th>\n",
       "      <th>BloodPressure</th>\n",
       "      <th>SkinThickness</th>\n",
       "      <th>Insulin</th>\n",
       "      <th>BMI</th>\n",
       "      <th>DiabetesPedigreeFunction</th>\n",
       "      <th>Age</th>\n",
       "      <th>Outcome</th>\n",
       "    </tr>\n",
       "  </thead>\n",
       "  <tbody>\n",
       "    <tr>\n",
       "      <th>0</th>\n",
       "      <td>6</td>\n",
       "      <td>148</td>\n",
       "      <td>72</td>\n",
       "      <td>35</td>\n",
       "      <td>0</td>\n",
       "      <td>33.6</td>\n",
       "      <td>0.627</td>\n",
       "      <td>50</td>\n",
       "      <td>1</td>\n",
       "    </tr>\n",
       "    <tr>\n",
       "      <th>1</th>\n",
       "      <td>1</td>\n",
       "      <td>85</td>\n",
       "      <td>66</td>\n",
       "      <td>29</td>\n",
       "      <td>0</td>\n",
       "      <td>26.6</td>\n",
       "      <td>0.351</td>\n",
       "      <td>31</td>\n",
       "      <td>0</td>\n",
       "    </tr>\n",
       "    <tr>\n",
       "      <th>2</th>\n",
       "      <td>8</td>\n",
       "      <td>183</td>\n",
       "      <td>64</td>\n",
       "      <td>0</td>\n",
       "      <td>0</td>\n",
       "      <td>23.3</td>\n",
       "      <td>0.672</td>\n",
       "      <td>32</td>\n",
       "      <td>1</td>\n",
       "    </tr>\n",
       "    <tr>\n",
       "      <th>3</th>\n",
       "      <td>1</td>\n",
       "      <td>89</td>\n",
       "      <td>66</td>\n",
       "      <td>23</td>\n",
       "      <td>94</td>\n",
       "      <td>28.1</td>\n",
       "      <td>0.167</td>\n",
       "      <td>21</td>\n",
       "      <td>0</td>\n",
       "    </tr>\n",
       "    <tr>\n",
       "      <th>4</th>\n",
       "      <td>0</td>\n",
       "      <td>137</td>\n",
       "      <td>40</td>\n",
       "      <td>35</td>\n",
       "      <td>168</td>\n",
       "      <td>43.1</td>\n",
       "      <td>2.288</td>\n",
       "      <td>33</td>\n",
       "      <td>1</td>\n",
       "    </tr>\n",
       "  </tbody>\n",
       "</table>\n",
       "</div>"
      ],
      "text/plain": [
       "   Pregnancies  Glucose  BloodPressure  SkinThickness  Insulin   BMI  \\\n",
       "0            6      148             72             35        0  33.6   \n",
       "1            1       85             66             29        0  26.6   \n",
       "2            8      183             64              0        0  23.3   \n",
       "3            1       89             66             23       94  28.1   \n",
       "4            0      137             40             35      168  43.1   \n",
       "\n",
       "   DiabetesPedigreeFunction  Age  Outcome  \n",
       "0                     0.627   50        1  \n",
       "1                     0.351   31        0  \n",
       "2                     0.672   32        1  \n",
       "3                     0.167   21        0  \n",
       "4                     2.288   33        1  "
      ]
     },
     "execution_count": 4,
     "metadata": {},
     "output_type": "execute_result"
    }
   ],
   "source": [
    "df.head()"
   ]
  },
  {
   "cell_type": "code",
   "execution_count": 5,
   "id": "5f9adc26",
   "metadata": {
    "execution": {
     "iopub.execute_input": "2022-12-11T12:05:30.853433Z",
     "iopub.status.busy": "2022-12-11T12:05:30.853121Z",
     "iopub.status.idle": "2022-12-11T12:05:30.897974Z",
     "shell.execute_reply": "2022-12-11T12:05:30.896746Z"
    },
    "papermill": {
     "duration": 0.055612,
     "end_time": "2022-12-11T12:05:30.900488",
     "exception": false,
     "start_time": "2022-12-11T12:05:30.844876",
     "status": "completed"
    },
    "tags": []
   },
   "outputs": [
    {
     "data": {
      "text/html": [
       "<div>\n",
       "<style scoped>\n",
       "    .dataframe tbody tr th:only-of-type {\n",
       "        vertical-align: middle;\n",
       "    }\n",
       "\n",
       "    .dataframe tbody tr th {\n",
       "        vertical-align: top;\n",
       "    }\n",
       "\n",
       "    .dataframe thead th {\n",
       "        text-align: right;\n",
       "    }\n",
       "</style>\n",
       "<table border=\"1\" class=\"dataframe\">\n",
       "  <thead>\n",
       "    <tr style=\"text-align: right;\">\n",
       "      <th></th>\n",
       "      <th>Pregnancies</th>\n",
       "      <th>Glucose</th>\n",
       "      <th>BloodPressure</th>\n",
       "      <th>SkinThickness</th>\n",
       "      <th>Insulin</th>\n",
       "      <th>BMI</th>\n",
       "      <th>DiabetesPedigreeFunction</th>\n",
       "      <th>Age</th>\n",
       "      <th>Outcome</th>\n",
       "    </tr>\n",
       "  </thead>\n",
       "  <tbody>\n",
       "    <tr>\n",
       "      <th>count</th>\n",
       "      <td>768.000000</td>\n",
       "      <td>768.000000</td>\n",
       "      <td>768.000000</td>\n",
       "      <td>768.000000</td>\n",
       "      <td>768.000000</td>\n",
       "      <td>768.000000</td>\n",
       "      <td>768.000000</td>\n",
       "      <td>768.000000</td>\n",
       "      <td>768.000000</td>\n",
       "    </tr>\n",
       "    <tr>\n",
       "      <th>mean</th>\n",
       "      <td>3.845052</td>\n",
       "      <td>120.894531</td>\n",
       "      <td>69.105469</td>\n",
       "      <td>20.536458</td>\n",
       "      <td>79.799479</td>\n",
       "      <td>31.992578</td>\n",
       "      <td>0.471876</td>\n",
       "      <td>33.240885</td>\n",
       "      <td>0.348958</td>\n",
       "    </tr>\n",
       "    <tr>\n",
       "      <th>std</th>\n",
       "      <td>3.369578</td>\n",
       "      <td>31.972618</td>\n",
       "      <td>19.355807</td>\n",
       "      <td>15.952218</td>\n",
       "      <td>115.244002</td>\n",
       "      <td>7.884160</td>\n",
       "      <td>0.331329</td>\n",
       "      <td>11.760232</td>\n",
       "      <td>0.476951</td>\n",
       "    </tr>\n",
       "    <tr>\n",
       "      <th>min</th>\n",
       "      <td>0.000000</td>\n",
       "      <td>0.000000</td>\n",
       "      <td>0.000000</td>\n",
       "      <td>0.000000</td>\n",
       "      <td>0.000000</td>\n",
       "      <td>0.000000</td>\n",
       "      <td>0.078000</td>\n",
       "      <td>21.000000</td>\n",
       "      <td>0.000000</td>\n",
       "    </tr>\n",
       "    <tr>\n",
       "      <th>25%</th>\n",
       "      <td>1.000000</td>\n",
       "      <td>99.000000</td>\n",
       "      <td>62.000000</td>\n",
       "      <td>0.000000</td>\n",
       "      <td>0.000000</td>\n",
       "      <td>27.300000</td>\n",
       "      <td>0.243750</td>\n",
       "      <td>24.000000</td>\n",
       "      <td>0.000000</td>\n",
       "    </tr>\n",
       "    <tr>\n",
       "      <th>50%</th>\n",
       "      <td>3.000000</td>\n",
       "      <td>117.000000</td>\n",
       "      <td>72.000000</td>\n",
       "      <td>23.000000</td>\n",
       "      <td>30.500000</td>\n",
       "      <td>32.000000</td>\n",
       "      <td>0.372500</td>\n",
       "      <td>29.000000</td>\n",
       "      <td>0.000000</td>\n",
       "    </tr>\n",
       "    <tr>\n",
       "      <th>75%</th>\n",
       "      <td>6.000000</td>\n",
       "      <td>140.250000</td>\n",
       "      <td>80.000000</td>\n",
       "      <td>32.000000</td>\n",
       "      <td>127.250000</td>\n",
       "      <td>36.600000</td>\n",
       "      <td>0.626250</td>\n",
       "      <td>41.000000</td>\n",
       "      <td>1.000000</td>\n",
       "    </tr>\n",
       "    <tr>\n",
       "      <th>max</th>\n",
       "      <td>17.000000</td>\n",
       "      <td>199.000000</td>\n",
       "      <td>122.000000</td>\n",
       "      <td>99.000000</td>\n",
       "      <td>846.000000</td>\n",
       "      <td>67.100000</td>\n",
       "      <td>2.420000</td>\n",
       "      <td>81.000000</td>\n",
       "      <td>1.000000</td>\n",
       "    </tr>\n",
       "  </tbody>\n",
       "</table>\n",
       "</div>"
      ],
      "text/plain": [
       "       Pregnancies     Glucose  BloodPressure  SkinThickness     Insulin  \\\n",
       "count   768.000000  768.000000     768.000000     768.000000  768.000000   \n",
       "mean      3.845052  120.894531      69.105469      20.536458   79.799479   \n",
       "std       3.369578   31.972618      19.355807      15.952218  115.244002   \n",
       "min       0.000000    0.000000       0.000000       0.000000    0.000000   \n",
       "25%       1.000000   99.000000      62.000000       0.000000    0.000000   \n",
       "50%       3.000000  117.000000      72.000000      23.000000   30.500000   \n",
       "75%       6.000000  140.250000      80.000000      32.000000  127.250000   \n",
       "max      17.000000  199.000000     122.000000      99.000000  846.000000   \n",
       "\n",
       "              BMI  DiabetesPedigreeFunction         Age     Outcome  \n",
       "count  768.000000                768.000000  768.000000  768.000000  \n",
       "mean    31.992578                  0.471876   33.240885    0.348958  \n",
       "std      7.884160                  0.331329   11.760232    0.476951  \n",
       "min      0.000000                  0.078000   21.000000    0.000000  \n",
       "25%     27.300000                  0.243750   24.000000    0.000000  \n",
       "50%     32.000000                  0.372500   29.000000    0.000000  \n",
       "75%     36.600000                  0.626250   41.000000    1.000000  \n",
       "max     67.100000                  2.420000   81.000000    1.000000  "
      ]
     },
     "execution_count": 5,
     "metadata": {},
     "output_type": "execute_result"
    }
   ],
   "source": [
    "df.describe()"
   ]
  },
  {
   "cell_type": "code",
   "execution_count": 6,
   "id": "d2fccc71",
   "metadata": {
    "execution": {
     "iopub.execute_input": "2022-12-11T12:05:30.917683Z",
     "iopub.status.busy": "2022-12-11T12:05:30.917352Z",
     "iopub.status.idle": "2022-12-11T12:05:30.922339Z",
     "shell.execute_reply": "2022-12-11T12:05:30.921256Z"
    },
    "papermill": {
     "duration": 0.016151,
     "end_time": "2022-12-11T12:05:30.924962",
     "exception": false,
     "start_time": "2022-12-11T12:05:30.908811",
     "status": "completed"
    },
    "tags": []
   },
   "outputs": [],
   "source": [
    "X=df.copy()\n",
    "y=X['Outcome']\n"
   ]
  },
  {
   "cell_type": "code",
   "execution_count": 7,
   "id": "1c00da26",
   "metadata": {
    "execution": {
     "iopub.execute_input": "2022-12-11T12:05:30.941752Z",
     "iopub.status.busy": "2022-12-11T12:05:30.941315Z",
     "iopub.status.idle": "2022-12-11T12:05:30.949433Z",
     "shell.execute_reply": "2022-12-11T12:05:30.948344Z"
    },
    "papermill": {
     "duration": 0.019488,
     "end_time": "2022-12-11T12:05:30.951983",
     "exception": false,
     "start_time": "2022-12-11T12:05:30.932495",
     "status": "completed"
    },
    "tags": []
   },
   "outputs": [],
   "source": [
    "X['SkinThickness' + '_was_missing'] = X['SkinThickness']==0"
   ]
  },
  {
   "cell_type": "code",
   "execution_count": 8,
   "id": "5ea01d20",
   "metadata": {
    "execution": {
     "iopub.execute_input": "2022-12-11T12:05:30.968348Z",
     "iopub.status.busy": "2022-12-11T12:05:30.968039Z",
     "iopub.status.idle": "2022-12-11T12:05:30.974385Z",
     "shell.execute_reply": "2022-12-11T12:05:30.972803Z"
    },
    "papermill": {
     "duration": 0.017024,
     "end_time": "2022-12-11T12:05:30.976520",
     "exception": false,
     "start_time": "2022-12-11T12:05:30.959496",
     "status": "completed"
    },
    "tags": []
   },
   "outputs": [],
   "source": [
    "X['Insulin' + '_was_missing'] = X['Insulin']==0"
   ]
  },
  {
   "cell_type": "code",
   "execution_count": 9,
   "id": "b326cfc3",
   "metadata": {
    "execution": {
     "iopub.execute_input": "2022-12-11T12:05:30.993043Z",
     "iopub.status.busy": "2022-12-11T12:05:30.992721Z",
     "iopub.status.idle": "2022-12-11T12:05:30.997530Z",
     "shell.execute_reply": "2022-12-11T12:05:30.996372Z"
    },
    "papermill": {
     "duration": 0.015511,
     "end_time": "2022-12-11T12:05:30.999518",
     "exception": false,
     "start_time": "2022-12-11T12:05:30.984007",
     "status": "completed"
    },
    "tags": []
   },
   "outputs": [],
   "source": [
    "# X.Insulin=np.log(1+X.Insulin)"
   ]
  },
  {
   "cell_type": "code",
   "execution_count": 10,
   "id": "b54b82df",
   "metadata": {
    "execution": {
     "iopub.execute_input": "2022-12-11T12:05:31.015851Z",
     "iopub.status.busy": "2022-12-11T12:05:31.015475Z",
     "iopub.status.idle": "2022-12-11T12:05:31.031230Z",
     "shell.execute_reply": "2022-12-11T12:05:31.029891Z"
    },
    "papermill": {
     "duration": 0.026376,
     "end_time": "2022-12-11T12:05:31.033271",
     "exception": false,
     "start_time": "2022-12-11T12:05:31.006895",
     "status": "completed"
    },
    "tags": []
   },
   "outputs": [
    {
     "data": {
      "text/html": [
       "<div>\n",
       "<style scoped>\n",
       "    .dataframe tbody tr th:only-of-type {\n",
       "        vertical-align: middle;\n",
       "    }\n",
       "\n",
       "    .dataframe tbody tr th {\n",
       "        vertical-align: top;\n",
       "    }\n",
       "\n",
       "    .dataframe thead th {\n",
       "        text-align: right;\n",
       "    }\n",
       "</style>\n",
       "<table border=\"1\" class=\"dataframe\">\n",
       "  <thead>\n",
       "    <tr style=\"text-align: right;\">\n",
       "      <th></th>\n",
       "      <th>Pregnancies</th>\n",
       "      <th>Glucose</th>\n",
       "      <th>BloodPressure</th>\n",
       "      <th>SkinThickness</th>\n",
       "      <th>Insulin</th>\n",
       "      <th>BMI</th>\n",
       "      <th>DiabetesPedigreeFunction</th>\n",
       "      <th>Age</th>\n",
       "      <th>Outcome</th>\n",
       "      <th>SkinThickness_was_missing</th>\n",
       "      <th>Insulin_was_missing</th>\n",
       "    </tr>\n",
       "  </thead>\n",
       "  <tbody>\n",
       "    <tr>\n",
       "      <th>0</th>\n",
       "      <td>6</td>\n",
       "      <td>148</td>\n",
       "      <td>72</td>\n",
       "      <td>35</td>\n",
       "      <td>0</td>\n",
       "      <td>33.6</td>\n",
       "      <td>0.627</td>\n",
       "      <td>50</td>\n",
       "      <td>1</td>\n",
       "      <td>False</td>\n",
       "      <td>True</td>\n",
       "    </tr>\n",
       "    <tr>\n",
       "      <th>1</th>\n",
       "      <td>1</td>\n",
       "      <td>85</td>\n",
       "      <td>66</td>\n",
       "      <td>29</td>\n",
       "      <td>0</td>\n",
       "      <td>26.6</td>\n",
       "      <td>0.351</td>\n",
       "      <td>31</td>\n",
       "      <td>0</td>\n",
       "      <td>False</td>\n",
       "      <td>True</td>\n",
       "    </tr>\n",
       "    <tr>\n",
       "      <th>2</th>\n",
       "      <td>8</td>\n",
       "      <td>183</td>\n",
       "      <td>64</td>\n",
       "      <td>0</td>\n",
       "      <td>0</td>\n",
       "      <td>23.3</td>\n",
       "      <td>0.672</td>\n",
       "      <td>32</td>\n",
       "      <td>1</td>\n",
       "      <td>True</td>\n",
       "      <td>True</td>\n",
       "    </tr>\n",
       "    <tr>\n",
       "      <th>3</th>\n",
       "      <td>1</td>\n",
       "      <td>89</td>\n",
       "      <td>66</td>\n",
       "      <td>23</td>\n",
       "      <td>94</td>\n",
       "      <td>28.1</td>\n",
       "      <td>0.167</td>\n",
       "      <td>21</td>\n",
       "      <td>0</td>\n",
       "      <td>False</td>\n",
       "      <td>False</td>\n",
       "    </tr>\n",
       "    <tr>\n",
       "      <th>4</th>\n",
       "      <td>0</td>\n",
       "      <td>137</td>\n",
       "      <td>40</td>\n",
       "      <td>35</td>\n",
       "      <td>168</td>\n",
       "      <td>43.1</td>\n",
       "      <td>2.288</td>\n",
       "      <td>33</td>\n",
       "      <td>1</td>\n",
       "      <td>False</td>\n",
       "      <td>False</td>\n",
       "    </tr>\n",
       "    <tr>\n",
       "      <th>...</th>\n",
       "      <td>...</td>\n",
       "      <td>...</td>\n",
       "      <td>...</td>\n",
       "      <td>...</td>\n",
       "      <td>...</td>\n",
       "      <td>...</td>\n",
       "      <td>...</td>\n",
       "      <td>...</td>\n",
       "      <td>...</td>\n",
       "      <td>...</td>\n",
       "      <td>...</td>\n",
       "    </tr>\n",
       "    <tr>\n",
       "      <th>763</th>\n",
       "      <td>10</td>\n",
       "      <td>101</td>\n",
       "      <td>76</td>\n",
       "      <td>48</td>\n",
       "      <td>180</td>\n",
       "      <td>32.9</td>\n",
       "      <td>0.171</td>\n",
       "      <td>63</td>\n",
       "      <td>0</td>\n",
       "      <td>False</td>\n",
       "      <td>False</td>\n",
       "    </tr>\n",
       "    <tr>\n",
       "      <th>764</th>\n",
       "      <td>2</td>\n",
       "      <td>122</td>\n",
       "      <td>70</td>\n",
       "      <td>27</td>\n",
       "      <td>0</td>\n",
       "      <td>36.8</td>\n",
       "      <td>0.340</td>\n",
       "      <td>27</td>\n",
       "      <td>0</td>\n",
       "      <td>False</td>\n",
       "      <td>True</td>\n",
       "    </tr>\n",
       "    <tr>\n",
       "      <th>765</th>\n",
       "      <td>5</td>\n",
       "      <td>121</td>\n",
       "      <td>72</td>\n",
       "      <td>23</td>\n",
       "      <td>112</td>\n",
       "      <td>26.2</td>\n",
       "      <td>0.245</td>\n",
       "      <td>30</td>\n",
       "      <td>0</td>\n",
       "      <td>False</td>\n",
       "      <td>False</td>\n",
       "    </tr>\n",
       "    <tr>\n",
       "      <th>766</th>\n",
       "      <td>1</td>\n",
       "      <td>126</td>\n",
       "      <td>60</td>\n",
       "      <td>0</td>\n",
       "      <td>0</td>\n",
       "      <td>30.1</td>\n",
       "      <td>0.349</td>\n",
       "      <td>47</td>\n",
       "      <td>1</td>\n",
       "      <td>True</td>\n",
       "      <td>True</td>\n",
       "    </tr>\n",
       "    <tr>\n",
       "      <th>767</th>\n",
       "      <td>1</td>\n",
       "      <td>93</td>\n",
       "      <td>70</td>\n",
       "      <td>31</td>\n",
       "      <td>0</td>\n",
       "      <td>30.4</td>\n",
       "      <td>0.315</td>\n",
       "      <td>23</td>\n",
       "      <td>0</td>\n",
       "      <td>False</td>\n",
       "      <td>True</td>\n",
       "    </tr>\n",
       "  </tbody>\n",
       "</table>\n",
       "<p>768 rows × 11 columns</p>\n",
       "</div>"
      ],
      "text/plain": [
       "     Pregnancies  Glucose  BloodPressure  SkinThickness  Insulin   BMI  \\\n",
       "0              6      148             72             35        0  33.6   \n",
       "1              1       85             66             29        0  26.6   \n",
       "2              8      183             64              0        0  23.3   \n",
       "3              1       89             66             23       94  28.1   \n",
       "4              0      137             40             35      168  43.1   \n",
       "..           ...      ...            ...            ...      ...   ...   \n",
       "763           10      101             76             48      180  32.9   \n",
       "764            2      122             70             27        0  36.8   \n",
       "765            5      121             72             23      112  26.2   \n",
       "766            1      126             60              0        0  30.1   \n",
       "767            1       93             70             31        0  30.4   \n",
       "\n",
       "     DiabetesPedigreeFunction  Age  Outcome  SkinThickness_was_missing  \\\n",
       "0                       0.627   50        1                      False   \n",
       "1                       0.351   31        0                      False   \n",
       "2                       0.672   32        1                       True   \n",
       "3                       0.167   21        0                      False   \n",
       "4                       2.288   33        1                      False   \n",
       "..                        ...  ...      ...                        ...   \n",
       "763                     0.171   63        0                      False   \n",
       "764                     0.340   27        0                      False   \n",
       "765                     0.245   30        0                      False   \n",
       "766                     0.349   47        1                       True   \n",
       "767                     0.315   23        0                      False   \n",
       "\n",
       "     Insulin_was_missing  \n",
       "0                   True  \n",
       "1                   True  \n",
       "2                   True  \n",
       "3                  False  \n",
       "4                  False  \n",
       "..                   ...  \n",
       "763                False  \n",
       "764                 True  \n",
       "765                False  \n",
       "766                 True  \n",
       "767                 True  \n",
       "\n",
       "[768 rows x 11 columns]"
      ]
     },
     "execution_count": 10,
     "metadata": {},
     "output_type": "execute_result"
    }
   ],
   "source": [
    "X"
   ]
  },
  {
   "cell_type": "code",
   "execution_count": 11,
   "id": "6e06ba8b",
   "metadata": {
    "execution": {
     "iopub.execute_input": "2022-12-11T12:05:31.050330Z",
     "iopub.status.busy": "2022-12-11T12:05:31.050000Z",
     "iopub.status.idle": "2022-12-11T12:05:31.058405Z",
     "shell.execute_reply": "2022-12-11T12:05:31.057160Z"
    },
    "papermill": {
     "duration": 0.019849,
     "end_time": "2022-12-11T12:05:31.060853",
     "exception": false,
     "start_time": "2022-12-11T12:05:31.041004",
     "status": "completed"
    },
    "tags": []
   },
   "outputs": [
    {
     "name": "stdout",
     "output_type": "stream",
     "text": [
      "206.84615384615384\n"
     ]
    }
   ],
   "source": [
    "ymean=X.loc[(X['Outcome'] == 1) & (X['Insulin']!= 0)].Insulin.mean()\n",
    "print(ymean)\n",
    "X.loc[(X['Outcome'] == 1) & (X['Insulin']== 0),'Insulin']=ymean"
   ]
  },
  {
   "cell_type": "code",
   "execution_count": 12,
   "id": "9336728a",
   "metadata": {
    "execution": {
     "iopub.execute_input": "2022-12-11T12:05:31.078515Z",
     "iopub.status.busy": "2022-12-11T12:05:31.078083Z",
     "iopub.status.idle": "2022-12-11T12:05:31.088302Z",
     "shell.execute_reply": "2022-12-11T12:05:31.087248Z"
    },
    "papermill": {
     "duration": 0.02161,
     "end_time": "2022-12-11T12:05:31.090472",
     "exception": false,
     "start_time": "2022-12-11T12:05:31.068862",
     "status": "completed"
    },
    "tags": []
   },
   "outputs": [
    {
     "name": "stdout",
     "output_type": "stream",
     "text": [
      "130.28787878787878\n"
     ]
    }
   ],
   "source": [
    "nmean=X.loc[(X['Outcome'] == 0) & (X['Insulin']!= 0)].Insulin.mean()\n",
    "print(nmean)\n",
    "X.loc[(X['Outcome'] == 0) & (X['Insulin']== 0),'Insulin']=nmean"
   ]
  },
  {
   "cell_type": "code",
   "execution_count": 13,
   "id": "2ad4fbcd",
   "metadata": {
    "execution": {
     "iopub.execute_input": "2022-12-11T12:05:31.109329Z",
     "iopub.status.busy": "2022-12-11T12:05:31.107581Z",
     "iopub.status.idle": "2022-12-11T12:05:31.116876Z",
     "shell.execute_reply": "2022-12-11T12:05:31.116001Z"
    },
    "papermill": {
     "duration": 0.02038,
     "end_time": "2022-12-11T12:05:31.118762",
     "exception": false,
     "start_time": "2022-12-11T12:05:31.098382",
     "status": "completed"
    },
    "tags": []
   },
   "outputs": [
    {
     "name": "stdout",
     "output_type": "stream",
     "text": [
      "33.0\n"
     ]
    }
   ],
   "source": [
    "ymean=X.loc[(X['Outcome'] == 1) & (X['SkinThickness']!= 0)].SkinThickness.mean()\n",
    "print(ymean)\n",
    "X.loc[(X['Outcome'] == 1) & (X['SkinThickness']== 0),'SkinThickness']=ymean"
   ]
  },
  {
   "cell_type": "code",
   "execution_count": 14,
   "id": "da392308",
   "metadata": {
    "execution": {
     "iopub.execute_input": "2022-12-11T12:05:31.136008Z",
     "iopub.status.busy": "2022-12-11T12:05:31.135625Z",
     "iopub.status.idle": "2022-12-11T12:05:31.145432Z",
     "shell.execute_reply": "2022-12-11T12:05:31.143349Z"
    },
    "papermill": {
     "duration": 0.021964,
     "end_time": "2022-12-11T12:05:31.148524",
     "exception": false,
     "start_time": "2022-12-11T12:05:31.126560",
     "status": "completed"
    },
    "tags": []
   },
   "outputs": [
    {
     "name": "stdout",
     "output_type": "stream",
     "text": [
      "27.235457063711912\n"
     ]
    }
   ],
   "source": [
    "nmean=X.loc[(X['Outcome'] == 0) & (X['SkinThickness']!= 0)].SkinThickness.mean()\n",
    "print(nmean)\n",
    "X.loc[(X['Outcome'] == 0) & (X['SkinThickness']== 0),'SkinThickness']=nmean"
   ]
  },
  {
   "cell_type": "code",
   "execution_count": 15,
   "id": "7aacdb98",
   "metadata": {
    "execution": {
     "iopub.execute_input": "2022-12-11T12:05:31.166716Z",
     "iopub.status.busy": "2022-12-11T12:05:31.166170Z",
     "iopub.status.idle": "2022-12-11T12:05:31.174864Z",
     "shell.execute_reply": "2022-12-11T12:05:31.173378Z"
    },
    "papermill": {
     "duration": 0.020779,
     "end_time": "2022-12-11T12:05:31.177597",
     "exception": false,
     "start_time": "2022-12-11T12:05:31.156818",
     "status": "completed"
    },
    "tags": []
   },
   "outputs": [],
   "source": [
    "X.drop(['Outcome'],axis=1,inplace=True)"
   ]
  },
  {
   "cell_type": "code",
   "execution_count": 16,
   "id": "8411aec6",
   "metadata": {
    "execution": {
     "iopub.execute_input": "2022-12-11T12:05:31.195149Z",
     "iopub.status.busy": "2022-12-11T12:05:31.194600Z",
     "iopub.status.idle": "2022-12-11T12:05:31.214055Z",
     "shell.execute_reply": "2022-12-11T12:05:31.212836Z"
    },
    "papermill": {
     "duration": 0.030239,
     "end_time": "2022-12-11T12:05:31.215866",
     "exception": false,
     "start_time": "2022-12-11T12:05:31.185627",
     "status": "completed"
    },
    "tags": []
   },
   "outputs": [
    {
     "data": {
      "text/html": [
       "<div>\n",
       "<style scoped>\n",
       "    .dataframe tbody tr th:only-of-type {\n",
       "        vertical-align: middle;\n",
       "    }\n",
       "\n",
       "    .dataframe tbody tr th {\n",
       "        vertical-align: top;\n",
       "    }\n",
       "\n",
       "    .dataframe thead th {\n",
       "        text-align: right;\n",
       "    }\n",
       "</style>\n",
       "<table border=\"1\" class=\"dataframe\">\n",
       "  <thead>\n",
       "    <tr style=\"text-align: right;\">\n",
       "      <th></th>\n",
       "      <th>Pregnancies</th>\n",
       "      <th>Glucose</th>\n",
       "      <th>BloodPressure</th>\n",
       "      <th>SkinThickness</th>\n",
       "      <th>Insulin</th>\n",
       "      <th>BMI</th>\n",
       "      <th>DiabetesPedigreeFunction</th>\n",
       "      <th>Age</th>\n",
       "      <th>SkinThickness_was_missing</th>\n",
       "      <th>Insulin_was_missing</th>\n",
       "    </tr>\n",
       "  </thead>\n",
       "  <tbody>\n",
       "    <tr>\n",
       "      <th>0</th>\n",
       "      <td>6</td>\n",
       "      <td>148</td>\n",
       "      <td>72</td>\n",
       "      <td>35.0</td>\n",
       "      <td>206.846154</td>\n",
       "      <td>33.6</td>\n",
       "      <td>0.627</td>\n",
       "      <td>50</td>\n",
       "      <td>False</td>\n",
       "      <td>True</td>\n",
       "    </tr>\n",
       "    <tr>\n",
       "      <th>1</th>\n",
       "      <td>1</td>\n",
       "      <td>85</td>\n",
       "      <td>66</td>\n",
       "      <td>29.0</td>\n",
       "      <td>130.287879</td>\n",
       "      <td>26.6</td>\n",
       "      <td>0.351</td>\n",
       "      <td>31</td>\n",
       "      <td>False</td>\n",
       "      <td>True</td>\n",
       "    </tr>\n",
       "    <tr>\n",
       "      <th>2</th>\n",
       "      <td>8</td>\n",
       "      <td>183</td>\n",
       "      <td>64</td>\n",
       "      <td>33.0</td>\n",
       "      <td>206.846154</td>\n",
       "      <td>23.3</td>\n",
       "      <td>0.672</td>\n",
       "      <td>32</td>\n",
       "      <td>True</td>\n",
       "      <td>True</td>\n",
       "    </tr>\n",
       "    <tr>\n",
       "      <th>3</th>\n",
       "      <td>1</td>\n",
       "      <td>89</td>\n",
       "      <td>66</td>\n",
       "      <td>23.0</td>\n",
       "      <td>94.000000</td>\n",
       "      <td>28.1</td>\n",
       "      <td>0.167</td>\n",
       "      <td>21</td>\n",
       "      <td>False</td>\n",
       "      <td>False</td>\n",
       "    </tr>\n",
       "    <tr>\n",
       "      <th>4</th>\n",
       "      <td>0</td>\n",
       "      <td>137</td>\n",
       "      <td>40</td>\n",
       "      <td>35.0</td>\n",
       "      <td>168.000000</td>\n",
       "      <td>43.1</td>\n",
       "      <td>2.288</td>\n",
       "      <td>33</td>\n",
       "      <td>False</td>\n",
       "      <td>False</td>\n",
       "    </tr>\n",
       "    <tr>\n",
       "      <th>...</th>\n",
       "      <td>...</td>\n",
       "      <td>...</td>\n",
       "      <td>...</td>\n",
       "      <td>...</td>\n",
       "      <td>...</td>\n",
       "      <td>...</td>\n",
       "      <td>...</td>\n",
       "      <td>...</td>\n",
       "      <td>...</td>\n",
       "      <td>...</td>\n",
       "    </tr>\n",
       "    <tr>\n",
       "      <th>763</th>\n",
       "      <td>10</td>\n",
       "      <td>101</td>\n",
       "      <td>76</td>\n",
       "      <td>48.0</td>\n",
       "      <td>180.000000</td>\n",
       "      <td>32.9</td>\n",
       "      <td>0.171</td>\n",
       "      <td>63</td>\n",
       "      <td>False</td>\n",
       "      <td>False</td>\n",
       "    </tr>\n",
       "    <tr>\n",
       "      <th>764</th>\n",
       "      <td>2</td>\n",
       "      <td>122</td>\n",
       "      <td>70</td>\n",
       "      <td>27.0</td>\n",
       "      <td>130.287879</td>\n",
       "      <td>36.8</td>\n",
       "      <td>0.340</td>\n",
       "      <td>27</td>\n",
       "      <td>False</td>\n",
       "      <td>True</td>\n",
       "    </tr>\n",
       "    <tr>\n",
       "      <th>765</th>\n",
       "      <td>5</td>\n",
       "      <td>121</td>\n",
       "      <td>72</td>\n",
       "      <td>23.0</td>\n",
       "      <td>112.000000</td>\n",
       "      <td>26.2</td>\n",
       "      <td>0.245</td>\n",
       "      <td>30</td>\n",
       "      <td>False</td>\n",
       "      <td>False</td>\n",
       "    </tr>\n",
       "    <tr>\n",
       "      <th>766</th>\n",
       "      <td>1</td>\n",
       "      <td>126</td>\n",
       "      <td>60</td>\n",
       "      <td>33.0</td>\n",
       "      <td>206.846154</td>\n",
       "      <td>30.1</td>\n",
       "      <td>0.349</td>\n",
       "      <td>47</td>\n",
       "      <td>True</td>\n",
       "      <td>True</td>\n",
       "    </tr>\n",
       "    <tr>\n",
       "      <th>767</th>\n",
       "      <td>1</td>\n",
       "      <td>93</td>\n",
       "      <td>70</td>\n",
       "      <td>31.0</td>\n",
       "      <td>130.287879</td>\n",
       "      <td>30.4</td>\n",
       "      <td>0.315</td>\n",
       "      <td>23</td>\n",
       "      <td>False</td>\n",
       "      <td>True</td>\n",
       "    </tr>\n",
       "  </tbody>\n",
       "</table>\n",
       "<p>768 rows × 10 columns</p>\n",
       "</div>"
      ],
      "text/plain": [
       "     Pregnancies  Glucose  BloodPressure  SkinThickness     Insulin   BMI  \\\n",
       "0              6      148             72           35.0  206.846154  33.6   \n",
       "1              1       85             66           29.0  130.287879  26.6   \n",
       "2              8      183             64           33.0  206.846154  23.3   \n",
       "3              1       89             66           23.0   94.000000  28.1   \n",
       "4              0      137             40           35.0  168.000000  43.1   \n",
       "..           ...      ...            ...            ...         ...   ...   \n",
       "763           10      101             76           48.0  180.000000  32.9   \n",
       "764            2      122             70           27.0  130.287879  36.8   \n",
       "765            5      121             72           23.0  112.000000  26.2   \n",
       "766            1      126             60           33.0  206.846154  30.1   \n",
       "767            1       93             70           31.0  130.287879  30.4   \n",
       "\n",
       "     DiabetesPedigreeFunction  Age  SkinThickness_was_missing  \\\n",
       "0                       0.627   50                      False   \n",
       "1                       0.351   31                      False   \n",
       "2                       0.672   32                       True   \n",
       "3                       0.167   21                      False   \n",
       "4                       2.288   33                      False   \n",
       "..                        ...  ...                        ...   \n",
       "763                     0.171   63                      False   \n",
       "764                     0.340   27                      False   \n",
       "765                     0.245   30                      False   \n",
       "766                     0.349   47                       True   \n",
       "767                     0.315   23                      False   \n",
       "\n",
       "     Insulin_was_missing  \n",
       "0                   True  \n",
       "1                   True  \n",
       "2                   True  \n",
       "3                  False  \n",
       "4                  False  \n",
       "..                   ...  \n",
       "763                False  \n",
       "764                 True  \n",
       "765                False  \n",
       "766                 True  \n",
       "767                 True  \n",
       "\n",
       "[768 rows x 10 columns]"
      ]
     },
     "execution_count": 16,
     "metadata": {},
     "output_type": "execute_result"
    }
   ],
   "source": [
    "X"
   ]
  },
  {
   "cell_type": "code",
   "execution_count": 17,
   "id": "aed42fee",
   "metadata": {
    "execution": {
     "iopub.execute_input": "2022-12-11T12:05:31.234943Z",
     "iopub.status.busy": "2022-12-11T12:05:31.233428Z",
     "iopub.status.idle": "2022-12-11T12:05:31.250132Z",
     "shell.execute_reply": "2022-12-11T12:05:31.248328Z"
    },
    "papermill": {
     "duration": 0.029807,
     "end_time": "2022-12-11T12:05:31.253820",
     "exception": false,
     "start_time": "2022-12-11T12:05:31.224013",
     "status": "completed"
    },
    "tags": []
   },
   "outputs": [
    {
     "name": "stdout",
     "output_type": "stream",
     "text": [
      "<class 'pandas.core.frame.DataFrame'>\n",
      "RangeIndex: 768 entries, 0 to 767\n",
      "Data columns (total 10 columns):\n",
      " #   Column                     Non-Null Count  Dtype  \n",
      "---  ------                     --------------  -----  \n",
      " 0   Pregnancies                768 non-null    int64  \n",
      " 1   Glucose                    768 non-null    int64  \n",
      " 2   BloodPressure              768 non-null    int64  \n",
      " 3   SkinThickness              768 non-null    float64\n",
      " 4   Insulin                    768 non-null    float64\n",
      " 5   BMI                        768 non-null    float64\n",
      " 6   DiabetesPedigreeFunction   768 non-null    float64\n",
      " 7   Age                        768 non-null    int64  \n",
      " 8   SkinThickness_was_missing  768 non-null    bool   \n",
      " 9   Insulin_was_missing        768 non-null    bool   \n",
      "dtypes: bool(2), float64(4), int64(4)\n",
      "memory usage: 49.6 KB\n"
     ]
    }
   ],
   "source": [
    "X.info()"
   ]
  },
  {
   "cell_type": "code",
   "execution_count": 18,
   "id": "96768f8d",
   "metadata": {
    "execution": {
     "iopub.execute_input": "2022-12-11T12:05:31.272951Z",
     "iopub.status.busy": "2022-12-11T12:05:31.272602Z",
     "iopub.status.idle": "2022-12-11T12:05:31.279528Z",
     "shell.execute_reply": "2022-12-11T12:05:31.278537Z"
    },
    "papermill": {
     "duration": 0.019171,
     "end_time": "2022-12-11T12:05:31.281697",
     "exception": false,
     "start_time": "2022-12-11T12:05:31.262526",
     "status": "completed"
    },
    "tags": []
   },
   "outputs": [],
   "source": [
    "X_train, X_valid, y_train, y_valid = train_test_split(X, y,train_size=0.8, test_size=0.2)"
   ]
  },
  {
   "cell_type": "code",
   "execution_count": 19,
   "id": "c58708b9",
   "metadata": {
    "execution": {
     "iopub.execute_input": "2022-12-11T12:05:31.300754Z",
     "iopub.status.busy": "2022-12-11T12:05:31.300291Z",
     "iopub.status.idle": "2022-12-11T12:05:31.721404Z",
     "shell.execute_reply": "2022-12-11T12:05:31.717804Z"
    },
    "papermill": {
     "duration": 0.436229,
     "end_time": "2022-12-11T12:05:31.726215",
     "exception": false,
     "start_time": "2022-12-11T12:05:31.289986",
     "status": "completed"
    },
    "tags": []
   },
   "outputs": [
    {
     "name": "stdout",
     "output_type": "stream",
     "text": [
      "1.0\n"
     ]
    }
   ],
   "source": [
    "from xgboost import XGBClassifier\n",
    "model = XGBClassifier()\n",
    "# my_pipeline = Pipeline(steps=[('preprocessor', preprocessor),\n",
    "#                       ('model', model)\n",
    "#                      ])\n",
    "# my_pipeline.fit(X_train, y_train)\n",
    "model.fit(X,y)\n",
    "\n",
    "# # Get predictions\n",
    "predictions = model.predict(X_valid)\n",
    "\n",
    "# # Calculate MAE\n",
    "mae = accuracy_score(y_valid,predictions)\n",
    "print(mae)"
   ]
  },
  {
   "cell_type": "code",
   "execution_count": 20,
   "id": "ecfe465e",
   "metadata": {
    "execution": {
     "iopub.execute_input": "2022-12-11T12:05:31.747330Z",
     "iopub.status.busy": "2022-12-11T12:05:31.747006Z",
     "iopub.status.idle": "2022-12-11T12:05:31.754509Z",
     "shell.execute_reply": "2022-12-11T12:05:31.753212Z"
    },
    "papermill": {
     "duration": 0.019002,
     "end_time": "2022-12-11T12:05:31.756772",
     "exception": false,
     "start_time": "2022-12-11T12:05:31.737770",
     "status": "completed"
    },
    "tags": []
   },
   "outputs": [
    {
     "data": {
      "text/plain": [
       "['Pregnancies',\n",
       " 'Glucose',\n",
       " 'BloodPressure',\n",
       " 'SkinThickness',\n",
       " 'Insulin',\n",
       " 'BMI',\n",
       " 'DiabetesPedigreeFunction',\n",
       " 'Age',\n",
       " 'SkinThickness_was_missing',\n",
       " 'Insulin_was_missing']"
      ]
     },
     "execution_count": 20,
     "metadata": {},
     "output_type": "execute_result"
    }
   ],
   "source": [
    "cols=list(X.columns)\n",
    "cols"
   ]
  },
  {
   "cell_type": "code",
   "execution_count": 21,
   "id": "fd2c5c64",
   "metadata": {
    "execution": {
     "iopub.execute_input": "2022-12-11T12:05:31.775733Z",
     "iopub.status.busy": "2022-12-11T12:05:31.775428Z",
     "iopub.status.idle": "2022-12-11T12:05:31.780301Z",
     "shell.execute_reply": "2022-12-11T12:05:31.778996Z"
    },
    "papermill": {
     "duration": 0.016532,
     "end_time": "2022-12-11T12:05:31.782058",
     "exception": false,
     "start_time": "2022-12-11T12:05:31.765526",
     "status": "completed"
    },
    "tags": []
   },
   "outputs": [],
   "source": [
    "numerical_cols = [cname for cname in X.columns if X[cname].dtype in ['int64', 'float64']]\n",
    "# categorical_cols = [cname for cname in X.columns if X[cname].dtype == \"object\"]\n",
    "# print(numerical_cols)\n",
    "# print(categorical_cols)"
   ]
  },
  {
   "cell_type": "code",
   "execution_count": 22,
   "id": "946ba58e",
   "metadata": {
    "execution": {
     "iopub.execute_input": "2022-12-11T12:05:31.800577Z",
     "iopub.status.busy": "2022-12-11T12:05:31.800010Z",
     "iopub.status.idle": "2022-12-11T12:05:31.805341Z",
     "shell.execute_reply": "2022-12-11T12:05:31.804332Z"
    },
    "papermill": {
     "duration": 0.017095,
     "end_time": "2022-12-11T12:05:31.807564",
     "exception": false,
     "start_time": "2022-12-11T12:05:31.790469",
     "status": "completed"
    },
    "tags": []
   },
   "outputs": [],
   "source": [
    "numerical_transformer = Pipeline(steps=[\n",
    "    ('imputer', SimpleImputer(missing_values=0,strategy='mean'))\n",
    "])\n",
    "\n",
    "# Bundle preprocessing for numerical and categorical data\n",
    "preprocessor = ColumnTransformer(\n",
    "    transformers=[\n",
    "        ('num', numerical_transformer, numerical_cols),\n",
    "    ])\n"
   ]
  },
  {
   "cell_type": "code",
   "execution_count": 23,
   "id": "199d3f95",
   "metadata": {
    "execution": {
     "iopub.execute_input": "2022-12-11T12:05:31.828822Z",
     "iopub.status.busy": "2022-12-11T12:05:31.828447Z",
     "iopub.status.idle": "2022-12-11T12:05:31.836011Z",
     "shell.execute_reply": "2022-12-11T12:05:31.835160Z"
    },
    "papermill": {
     "duration": 0.020943,
     "end_time": "2022-12-11T12:05:31.838044",
     "exception": false,
     "start_time": "2022-12-11T12:05:31.817101",
     "status": "completed"
    },
    "tags": []
   },
   "outputs": [],
   "source": [
    "from xgboost import XGBClassifier\n",
    "from sklearn.model_selection import GridSearchCV\n",
    "xgb1 = XGBClassifier()\n",
    "parameters = {'learning_rate': [0.03, 0.05,0.1], #so called `eta` value\n",
    "              'n_estimators': [50,100,250]}\n",
    "\n",
    "xgb_grid = GridSearchCV(xgb1,\n",
    "                        parameters,\n",
    "                        cv = 3,\n",
    "                        scoring='accuracy'\n",
    "                        )"
   ]
  },
  {
   "cell_type": "code",
   "execution_count": 24,
   "id": "b85c8b5a",
   "metadata": {
    "execution": {
     "iopub.execute_input": "2022-12-11T12:05:31.857131Z",
     "iopub.status.busy": "2022-12-11T12:05:31.856793Z",
     "iopub.status.idle": "2022-12-11T12:05:31.861056Z",
     "shell.execute_reply": "2022-12-11T12:05:31.860017Z"
    },
    "papermill": {
     "duration": 0.016274,
     "end_time": "2022-12-11T12:05:31.863365",
     "exception": false,
     "start_time": "2022-12-11T12:05:31.847091",
     "status": "completed"
    },
    "tags": []
   },
   "outputs": [],
   "source": [
    "# xgb_grid.fit(X,y)"
   ]
  },
  {
   "cell_type": "code",
   "execution_count": 25,
   "id": "e388933d",
   "metadata": {
    "execution": {
     "iopub.execute_input": "2022-12-11T12:05:31.882140Z",
     "iopub.status.busy": "2022-12-11T12:05:31.881806Z",
     "iopub.status.idle": "2022-12-11T12:05:42.655473Z",
     "shell.execute_reply": "2022-12-11T12:05:42.654272Z"
    },
    "papermill": {
     "duration": 10.786075,
     "end_time": "2022-12-11T12:05:42.658019",
     "exception": false,
     "start_time": "2022-12-11T12:05:31.871944",
     "status": "completed"
    },
    "tags": []
   },
   "outputs": [
    {
     "data": {
      "text/plain": [
       "Pipeline(steps=[('preprocessor',\n",
       "                 ColumnTransformer(transformers=[('num',\n",
       "                                                  Pipeline(steps=[('imputer',\n",
       "                                                                   SimpleImputer(missing_values=0))]),\n",
       "                                                  ['Pregnancies', 'Glucose',\n",
       "                                                   'BloodPressure',\n",
       "                                                   'SkinThickness', 'Insulin',\n",
       "                                                   'BMI',\n",
       "                                                   'DiabetesPedigreeFunction',\n",
       "                                                   'Age'])])),\n",
       "                ('model',\n",
       "                 GridSearchCV(cv=3,\n",
       "                              estimator=XGBClassifier(base_score=None,\n",
       "                                                      booster=None,\n",
       "                                                      callbacks=None,\n",
       "                                                      colsample_b...\n",
       "                                                      max_cat_to_onehot=None,\n",
       "                                                      max_delta_step=None,\n",
       "                                                      max_depth=None,\n",
       "                                                      max_leaves=None,\n",
       "                                                      min_child_weight=None,\n",
       "                                                      missing=nan,\n",
       "                                                      monotone_constraints=None,\n",
       "                                                      n_estimators=100,\n",
       "                                                      n_jobs=None,\n",
       "                                                      num_parallel_tree=None,\n",
       "                                                      predictor=None,\n",
       "                                                      random_state=None,\n",
       "                                                      reg_alpha=None,\n",
       "                                                      reg_lambda=None, ...),\n",
       "                              param_grid={'learning_rate': [0.03, 0.05, 0.1],\n",
       "                                          'n_estimators': [50, 100, 250]},\n",
       "                              scoring='accuracy'))])"
      ]
     },
     "execution_count": 25,
     "metadata": {},
     "output_type": "execute_result"
    }
   ],
   "source": [
    "cv_pipeline = Pipeline(steps=[('preprocessor',preprocessor),('model', xgb_grid)])\n",
    "cv_pipeline.fit(X_train, y_train)"
   ]
  },
  {
   "cell_type": "code",
   "execution_count": 26,
   "id": "edc22db6",
   "metadata": {
    "execution": {
     "iopub.execute_input": "2022-12-11T12:05:42.678988Z",
     "iopub.status.busy": "2022-12-11T12:05:42.677223Z",
     "iopub.status.idle": "2022-12-11T12:05:42.684177Z",
     "shell.execute_reply": "2022-12-11T12:05:42.682681Z"
    },
    "papermill": {
     "duration": 0.020243,
     "end_time": "2022-12-11T12:05:42.687081",
     "exception": false,
     "start_time": "2022-12-11T12:05:42.666838",
     "status": "completed"
    },
    "tags": []
   },
   "outputs": [
    {
     "name": "stdout",
     "output_type": "stream",
     "text": [
      "0.8875976406822893\n",
      "{'learning_rate': 0.1, 'n_estimators': 50}\n"
     ]
    }
   ],
   "source": [
    "print(cv_pipeline['model'].best_score_)\n",
    "print(cv_pipeline['model'].best_params_)"
   ]
  },
  {
   "cell_type": "code",
   "execution_count": null,
   "id": "932fcbf5",
   "metadata": {
    "papermill": {
     "duration": 0.008063,
     "end_time": "2022-12-11T12:05:42.703692",
     "exception": false,
     "start_time": "2022-12-11T12:05:42.695629",
     "status": "completed"
    },
    "tags": []
   },
   "outputs": [],
   "source": []
  },
  {
   "cell_type": "code",
   "execution_count": 27,
   "id": "c82e14dc",
   "metadata": {
    "execution": {
     "iopub.execute_input": "2022-12-11T12:05:42.721831Z",
     "iopub.status.busy": "2022-12-11T12:05:42.721389Z",
     "iopub.status.idle": "2022-12-11T12:05:42.725890Z",
     "shell.execute_reply": "2022-12-11T12:05:42.725299Z"
    },
    "papermill": {
     "duration": 0.015773,
     "end_time": "2022-12-11T12:05:42.727623",
     "exception": false,
     "start_time": "2022-12-11T12:05:42.711850",
     "status": "completed"
    },
    "tags": []
   },
   "outputs": [],
   "source": [
    "model = XGBClassifier(learning_rate= 0.03, n_estimators= 50)"
   ]
  },
  {
   "cell_type": "code",
   "execution_count": 28,
   "id": "c6cecc4a",
   "metadata": {
    "execution": {
     "iopub.execute_input": "2022-12-11T12:05:42.745801Z",
     "iopub.status.busy": "2022-12-11T12:05:42.745497Z",
     "iopub.status.idle": "2022-12-11T12:05:42.874523Z",
     "shell.execute_reply": "2022-12-11T12:05:42.873654Z"
    },
    "papermill": {
     "duration": 0.140317,
     "end_time": "2022-12-11T12:05:42.876275",
     "exception": false,
     "start_time": "2022-12-11T12:05:42.735958",
     "status": "completed"
    },
    "tags": []
   },
   "outputs": [
    {
     "data": {
      "text/plain": [
       "XGBClassifier(base_score=0.5, booster='gbtree', callbacks=None,\n",
       "              colsample_bylevel=1, colsample_bynode=1, colsample_bytree=1,\n",
       "              early_stopping_rounds=None, enable_categorical=False,\n",
       "              eval_metric=None, gamma=0, gpu_id=-1, grow_policy='depthwise',\n",
       "              importance_type=None, interaction_constraints='',\n",
       "              learning_rate=0.03, max_bin=256, max_cat_to_onehot=4,\n",
       "              max_delta_step=0, max_depth=6, max_leaves=0, min_child_weight=1,\n",
       "              missing=nan, monotone_constraints='()', n_estimators=50, n_jobs=0,\n",
       "              num_parallel_tree=1, predictor='auto', random_state=0,\n",
       "              reg_alpha=0, reg_lambda=1, ...)"
      ]
     },
     "execution_count": 28,
     "metadata": {},
     "output_type": "execute_result"
    }
   ],
   "source": [
    "model.fit(X,y)"
   ]
  },
  {
   "cell_type": "code",
   "execution_count": 29,
   "id": "f181f352",
   "metadata": {
    "execution": {
     "iopub.execute_input": "2022-12-11T12:05:42.895301Z",
     "iopub.status.busy": "2022-12-11T12:05:42.894804Z",
     "iopub.status.idle": "2022-12-11T12:05:42.901388Z",
     "shell.execute_reply": "2022-12-11T12:05:42.900734Z"
    },
    "papermill": {
     "duration": 0.018205,
     "end_time": "2022-12-11T12:05:42.903093",
     "exception": false,
     "start_time": "2022-12-11T12:05:42.884888",
     "status": "completed"
    },
    "tags": []
   },
   "outputs": [
    {
     "data": {
      "text/plain": [
       "array([0.02718857, 0.05159067, 0.01908977, 0.02037728, 0.5363626 ,\n",
       "       0.02529847, 0.01563511, 0.0950227 , 0.        , 0.20943487],\n",
       "      dtype=float32)"
      ]
     },
     "execution_count": 29,
     "metadata": {},
     "output_type": "execute_result"
    }
   ],
   "source": [
    "model.feature_importances_ "
   ]
  },
  {
   "cell_type": "code",
   "execution_count": 30,
   "id": "ec138142",
   "metadata": {
    "execution": {
     "iopub.execute_input": "2022-12-11T12:05:42.922576Z",
     "iopub.status.busy": "2022-12-11T12:05:42.922136Z",
     "iopub.status.idle": "2022-12-11T12:05:42.925774Z",
     "shell.execute_reply": "2022-12-11T12:05:42.925113Z"
    },
    "papermill": {
     "duration": 0.01626,
     "end_time": "2022-12-11T12:05:42.928200",
     "exception": false,
     "start_time": "2022-12-11T12:05:42.911940",
     "status": "completed"
    },
    "tags": []
   },
   "outputs": [],
   "source": [
    "# df.Insulin=np.log(1+df.Insulin)"
   ]
  },
  {
   "cell_type": "code",
   "execution_count": 31,
   "id": "2804c038",
   "metadata": {
    "execution": {
     "iopub.execute_input": "2022-12-11T12:05:42.947863Z",
     "iopub.status.busy": "2022-12-11T12:05:42.947538Z",
     "iopub.status.idle": "2022-12-11T12:05:43.128640Z",
     "shell.execute_reply": "2022-12-11T12:05:43.127714Z"
    },
    "papermill": {
     "duration": 0.193687,
     "end_time": "2022-12-11T12:05:43.130755",
     "exception": false,
     "start_time": "2022-12-11T12:05:42.937068",
     "status": "completed"
    },
    "tags": []
   },
   "outputs": [
    {
     "data": {
      "text/plain": [
       "0.9025974025974026"
      ]
     },
     "execution_count": 31,
     "metadata": {},
     "output_type": "execute_result"
    }
   ],
   "source": [
    "model = XGBClassifier(learning_rate= 0.1, n_estimators= 50)\n",
    "my_pipeline = Pipeline(steps=[('preprocessor',preprocessor),('model', model)])\n",
    "my_pipeline.fit(X_train, y_train)\n",
    "predictions = my_pipeline.predict(X_valid)\n",
    "accuracy_score(y_valid,predictions)"
   ]
  },
  {
   "cell_type": "code",
   "execution_count": 32,
   "id": "d186405a",
   "metadata": {
    "execution": {
     "iopub.execute_input": "2022-12-11T12:05:43.150175Z",
     "iopub.status.busy": "2022-12-11T12:05:43.149817Z",
     "iopub.status.idle": "2022-12-11T12:05:43.157511Z",
     "shell.execute_reply": "2022-12-11T12:05:43.156334Z"
    },
    "papermill": {
     "duration": 0.020088,
     "end_time": "2022-12-11T12:05:43.159664",
     "exception": false,
     "start_time": "2022-12-11T12:05:43.139576",
     "status": "completed"
    },
    "tags": []
   },
   "outputs": [
    {
     "data": {
      "text/plain": [
       "array([0.06769945, 0.10537855, 0.04670389, 0.1344941 , 0.40587786,\n",
       "       0.0635135 , 0.04944277, 0.12688987], dtype=float32)"
      ]
     },
     "execution_count": 32,
     "metadata": {},
     "output_type": "execute_result"
    }
   ],
   "source": [
    "my_pipeline['model'].feature_importances_ "
   ]
  },
  {
   "cell_type": "code",
   "execution_count": null,
   "id": "5ee1f50f",
   "metadata": {
    "papermill": {
     "duration": 0.008954,
     "end_time": "2022-12-11T12:05:43.177743",
     "exception": false,
     "start_time": "2022-12-11T12:05:43.168789",
     "status": "completed"
    },
    "tags": []
   },
   "outputs": [],
   "source": []
  }
 ],
 "metadata": {
  "kernelspec": {
   "display_name": "Python 3",
   "language": "python",
   "name": "python3"
  },
  "language_info": {
   "codemirror_mode": {
    "name": "ipython",
    "version": 3
   },
   "file_extension": ".py",
   "mimetype": "text/x-python",
   "name": "python",
   "nbconvert_exporter": "python",
   "pygments_lexer": "ipython3",
   "version": "3.7.12"
  },
  "papermill": {
   "default_parameters": {},
   "duration": 21.76996,
   "end_time": "2022-12-11T12:05:43.909147",
   "environment_variables": {},
   "exception": null,
   "input_path": "__notebook__.ipynb",
   "output_path": "__notebook__.ipynb",
   "parameters": {},
   "start_time": "2022-12-11T12:05:22.139187",
   "version": "2.3.4"
  }
 },
 "nbformat": 4,
 "nbformat_minor": 5
}
